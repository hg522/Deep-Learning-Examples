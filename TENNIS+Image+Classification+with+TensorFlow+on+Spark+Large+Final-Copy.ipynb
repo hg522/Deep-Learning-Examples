{
 "cells": [
  {
   "cell_type": "markdown",
   "metadata": {},
   "source": [
    "## Federer Vs Djokovic Image Classification using Deep Learning with Spark and Tensorflow\n"
   ]
  },
  {
   "cell_type": "code",
   "execution_count": 1,
   "metadata": {},
   "outputs": [],
   "source": [
    "spark = SparkSession.builder \\\n",
    "   .master(\"local[*]\") \\\n",
    "   .appName(\"ImageClassification\") \\\n",
    "   .config(\"spark.executor.memory\", \"16gb\") \\\n",
    "   .config(\"spark.driver.memory\", \"16G\") \\\n",
    "   .config(\"spark.driver.offHeap.enabled\", \"true\") \\\n",
    "   .config(\"spark.driver.offHeap.size\", \"16G\") \\\n",
    "   .config(\"spark.executor.maxResultSize\", \"16gb\") \\\n",
    "   .getOrCreate()"
   ]
  },
  {
   "cell_type": "code",
   "execution_count": 2,
   "metadata": {},
   "outputs": [],
   "source": [
    "## .config(\"spark.memory.offHeap.enabled\",true)\n",
    "###     .config(\"spark.memory.offHeap.size\",\"16g\")  \n",
    "### --executor-memory 64G"
   ]
  },
  {
   "cell_type": "code",
   "execution_count": 14,
   "metadata": {},
   "outputs": [
    {
     "data": {
      "text/html": [
       "\n",
       "        <div>\n",
       "            <p><b>SparkContext</b></p>\n",
       "\n",
       "            <p><a href=\"http://192.168.1.102:4040\">Spark UI</a></p>\n",
       "\n",
       "            <dl>\n",
       "              <dt>Version</dt>\n",
       "                <dd><code>v2.3.0</code></dd>\n",
       "              <dt>Master</dt>\n",
       "                <dd><code>local[*]</code></dd>\n",
       "              <dt>AppName</dt>\n",
       "                <dd><code>PySparkShell</code></dd>\n",
       "            </dl>\n",
       "        </div>\n",
       "        "
      ],
      "text/plain": [
       "<SparkContext master=local[*] appName=PySparkShell>"
      ]
     },
     "execution_count": 14,
     "metadata": {},
     "output_type": "execute_result"
    }
   ],
   "source": [
    "sc = spark.sparkContext\n",
    "sc"
   ]
  },
  {
   "cell_type": "code",
   "execution_count": 15,
   "metadata": {},
   "outputs": [
    {
     "data": {
      "text/plain": [
       "'1.4.0'"
      ]
     },
     "execution_count": 15,
     "metadata": {},
     "output_type": "execute_result"
    }
   ],
   "source": [
    "import tensorflow as tf\n",
    "tf.__version__"
   ]
  },
  {
   "cell_type": "code",
   "execution_count": 16,
   "metadata": {},
   "outputs": [],
   "source": [
    "import pyspark.sql.functions as f\n",
    "import sparkdl as dl"
   ]
  },
  {
   "cell_type": "markdown",
   "metadata": {},
   "source": [
    "### Load Images of Djokovic and Federer"
   ]
  },
  {
   "cell_type": "code",
   "execution_count": 17,
   "metadata": {},
   "outputs": [],
   "source": [
    "dfDjokovic = dl.readImages('./tennis/large/djokovic150/').withColumn('label', f.lit(0))\n",
    "dfFederer = dl.readImages('./tennis/large/federer150/').withColumn('label', f.lit(1))"
   ]
  },
  {
   "cell_type": "code",
   "execution_count": 18,
   "metadata": {},
   "outputs": [
    {
     "name": "stderr",
     "output_type": "stream",
     "text": [
      "IOPub data rate exceeded.\n",
      "The notebook server will temporarily stop sending output\n",
      "to the client in order to avoid crashing it.\n",
      "To change this limit, set the config variable\n",
      "`--NotebookApp.iopub_data_rate_limit`.\n",
      "\n",
      "Current values:\n",
      "NotebookApp.iopub_data_rate_limit=1000000.0 (bytes/sec)\n",
      "NotebookApp.rate_limit_window=3.0 (secs)\n",
      "\n"
     ]
    }
   ],
   "source": [
    "dfDjokovic.show(n=10,truncate=False)"
   ]
  },
  {
   "cell_type": "code",
   "execution_count": 19,
   "metadata": {},
   "outputs": [
    {
     "name": "stderr",
     "output_type": "stream",
     "text": [
      "IOPub data rate exceeded.\n",
      "The notebook server will temporarily stop sending output\n",
      "to the client in order to avoid crashing it.\n",
      "To change this limit, set the config variable\n",
      "`--NotebookApp.iopub_data_rate_limit`.\n",
      "\n",
      "Current values:\n",
      "NotebookApp.iopub_data_rate_limit=1000000.0 (bytes/sec)\n",
      "NotebookApp.rate_limit_window=3.0 (secs)\n",
      "\n"
     ]
    }
   ],
   "source": [
    "dfFederer.show(n=10,truncate=False)"
   ]
  },
  {
   "cell_type": "code",
   "execution_count": 20,
   "metadata": {},
   "outputs": [],
   "source": [
    "trainDFdjokovic, testDFdjokovic = dfDjokovic.randomSplit([80.00, 20.00], seed =12)\n",
    "trainDFfederer, testDFfederer = dfFederer.randomSplit([80.00, 20.00], seed=12)"
   ]
  },
  {
   "cell_type": "code",
   "execution_count": 21,
   "metadata": {},
   "outputs": [
    {
     "name": "stdout",
     "output_type": "stream",
     "text": [
      "The number of images in trainDFdjokovic is 110\n",
      "The number of images in testDFdjokovic is 27\n",
      "The number of images in trainDFfederer is 110\n",
      "The number of images in testDFfederer is 27\n"
     ]
    }
   ],
   "source": [
    "print('The number of images in trainDFdjokovic is {}'.format(trainDFdjokovic.toPandas().shape[0]))\n",
    "print('The number of images in testDFdjokovic is {}'.format(testDFdjokovic.toPandas().shape[0]))\n",
    "print('The number of images in trainDFfederer is {}'.format(trainDFfederer.toPandas().shape[0]))\n",
    "print('The number of images in testDFfederer is {}'.format(testDFfederer.toPandas().shape[0]))"
   ]
  },
  {
   "cell_type": "code",
   "execution_count": 22,
   "metadata": {},
   "outputs": [],
   "source": [
    "trainDF = trainDFdjokovic.unionAll(trainDFfederer)\n",
    "testDF = testDFdjokovic.unionAll(testDFfederer)"
   ]
  },
  {
   "cell_type": "code",
   "execution_count": 23,
   "metadata": {},
   "outputs": [
    {
     "name": "stdout",
     "output_type": "stream",
     "text": [
      "The number of images in the training data is 220\n",
      "The number of images in the testing  data is 54\n"
     ]
    }
   ],
   "source": [
    "print('The number of images in the training data is {}' .format(trainDF.toPandas().shape[0]))\n",
    "print('The number of images in the testing  data is {}' .format(testDF.toPandas().shape[0]))"
   ]
  },
  {
   "cell_type": "markdown",
   "metadata": {},
   "source": [
    "### Training with Deep Image Featurizer + Logistic Regression"
   ]
  },
  {
   "cell_type": "code",
   "execution_count": 24,
   "metadata": {},
   "outputs": [
    {
     "name": "stdout",
     "output_type": "stream",
     "text": [
      "INFO:tensorflow:Froze 376 variables.\n",
      "Converted 376 variables to const ops.\n",
      "INFO:tensorflow:Froze 0 variables.\n",
      "Converted 0 variables to const ops.\n"
     ]
    }
   ],
   "source": [
    "from pyspark.ml.classification import LogisticRegression\n",
    "from pyspark.ml import Pipeline\n",
    "## Xception InceptionV3\n",
    "vectorizer = dl.DeepImageFeaturizer(inputCol=\"image\", outputCol=\"features\", modelName='InceptionV3')\n",
    "logreg = LogisticRegression(maxIter=10,regParam=0.01, elasticNetParam=0.1, labelCol = \"label\", featuresCol=\"features\")\n",
    "pipeline = Pipeline(stages=[vectorizer, logreg])\n",
    "\n",
    "pipeline_model = pipeline.fit(trainDF)"
   ]
  },
  {
   "cell_type": "markdown",
   "metadata": {},
   "source": [
    "### Save MODELS"
   ]
  },
  {
   "cell_type": "code",
   "execution_count": 25,
   "metadata": {},
   "outputs": [
    {
     "name": "stdout",
     "output_type": "stream",
     "text": [
      "PipelineModel_4d2182c2608e78e1f2aa\n"
     ]
    }
   ],
   "source": [
    "lrModel = pipeline_model\n",
    "print(lrModel)  # summary only"
   ]
  },
  {
   "cell_type": "code",
   "execution_count": 26,
   "metadata": {},
   "outputs": [],
   "source": [
    "lrModel.stages[1].write().overwrite().save('lr-large')"
   ]
  },
  {
   "cell_type": "markdown",
   "metadata": {},
   "source": [
    "### Reload LR Model"
   ]
  },
  {
   "cell_type": "code",
   "execution_count": 27,
   "metadata": {},
   "outputs": [
    {
     "name": "stdout",
     "output_type": "stream",
     "text": [
      "INFO:tensorflow:Froze 376 variables.\n",
      "Converted 376 variables to const ops.\n",
      "INFO:tensorflow:Froze 0 variables.\n",
      "Converted 0 variables to const ops.\n",
      "Logistic Regression Model: Test set accuracy = 0.7962962962962963\n",
      "+-----+------------------------------------------+----------+\n",
      "|label|probability                               |prediction|\n",
      "+-----+------------------------------------------+----------+\n",
      "|0    |[0.8586630930379967,0.1413369069620032]   |0.0       |\n",
      "|0    |[0.8102327864123758,0.18976721358762408]  |0.0       |\n",
      "|0    |[0.9923176089958384,0.007682391004161615] |0.0       |\n",
      "|0    |[0.36591086096397507,0.6340891390360249]  |1.0       |\n",
      "|0    |[0.99719731178771,0.0028026882122901154]  |0.0       |\n",
      "|0    |[0.7808065939840823,0.21919340601591766]  |0.0       |\n",
      "|0    |[0.9970887542727666,0.0029112457272334703]|0.0       |\n",
      "|0    |[0.8802493559546595,0.11975064404534048]  |0.0       |\n",
      "|0    |[0.8122615553370044,0.18773844466299563]  |0.0       |\n",
      "|0    |[0.2469409900620115,0.7530590099379885]   |1.0       |\n",
      "|0    |[0.7673711004086274,0.23262889959137253]  |0.0       |\n",
      "|0    |[0.9958780190976525,0.004121980902347464] |0.0       |\n",
      "|0    |[0.9530468030049264,0.04695319699507366]  |0.0       |\n",
      "|0    |[0.9971167525919624,0.002883247408037586] |0.0       |\n",
      "|0    |[0.06856046860617283,0.9314395313938271]  |1.0       |\n",
      "|0    |[0.9678696678411111,0.03213033215888895]  |0.0       |\n",
      "|0    |[0.8695858792128855,0.1304141207871145]   |0.0       |\n",
      "|0    |[0.15022734189737352,0.8497726581026264]  |1.0       |\n",
      "|0    |[0.7592732968503101,0.24072670314968989]  |0.0       |\n",
      "|0    |[0.3082917375510108,0.6917082624489892]   |1.0       |\n",
      "+-----+------------------------------------------+----------+\n",
      "only showing top 20 rows\n",
      "\n"
     ]
    }
   ],
   "source": [
    "from pyspark.ml.classification import LogisticRegressionModel\n",
    "from pyspark.ml import Pipeline, PipelineModel\n",
    "from pyspark.ml.evaluation import MulticlassClassificationEvaluator\n",
    "from pyspark.ml.evaluation import BinaryClassificationEvaluator\n",
    "\n",
    "lr_test = LogisticRegressionModel.load('./lr-large')\n",
    "\n",
    "# Use a featurizer to use trained features from an existing model\n",
    "featurizer_test = dl.DeepImageFeaturizer(inputCol = \"image\", outputCol = \"features\", modelName = \"InceptionV3\")\n",
    "\n",
    "# Pipeline both entities\n",
    "p_lr_test = PipelineModel(stages=[featurizer_test, lr_test])\n",
    "\n",
    "# Test and evaluate\n",
    "tested_lr_test = p_lr_test.transform(testDF)\n",
    "evaluator_lr_test = MulticlassClassificationEvaluator(metricName = \"accuracy\")\n",
    "print(\"Logistic Regression Model: Test set accuracy = \" + str(evaluator_lr_test.evaluate(tested_lr_test.select(\"prediction\", \"label\"))))\n",
    "\n",
    "tested_lr_test.select(\"label\", \"probability\", \"prediction\").show(20, False)"
   ]
  },
  {
   "cell_type": "code",
   "execution_count": null,
   "metadata": {},
   "outputs": [],
   "source": []
  },
  {
   "cell_type": "markdown",
   "metadata": {},
   "source": [
    "### Decision Tree Classifier"
   ]
  },
  {
   "cell_type": "code",
   "execution_count": 28,
   "metadata": {},
   "outputs": [
    {
     "name": "stdout",
     "output_type": "stream",
     "text": [
      "INFO:tensorflow:Froze 376 variables.\n",
      "Converted 376 variables to const ops.\n",
      "INFO:tensorflow:Froze 0 variables.\n",
      "Converted 0 variables to const ops.\n"
     ]
    }
   ],
   "source": [
    "from pyspark.ml.classification import DecisionTreeClassifier\n",
    "from pyspark.ml import Pipeline\n",
    "## Xception InceptionV3\n",
    "vectorizer = dl.DeepImageFeaturizer(inputCol=\"image\", outputCol=\"features\", modelName='InceptionV3')\n",
    "\n",
    "dt = DecisionTreeClassifier(labelCol = \"label\", featuresCol=\"features\", maxDepth = 3)\n",
    "\n",
    "dt_pipeline = Pipeline(stages=[vectorizer, dt])\n",
    "\n",
    "dt_pipeline_model = dt_pipeline.fit(trainDF)\n"
   ]
  },
  {
   "cell_type": "code",
   "execution_count": 29,
   "metadata": {},
   "outputs": [
    {
     "name": "stdout",
     "output_type": "stream",
     "text": [
      "INFO:tensorflow:Froze 376 variables.\n",
      "Converted 376 variables to const ops.\n",
      "INFO:tensorflow:Froze 0 variables.\n",
      "Converted 0 variables to const ops.\n",
      "Decision Tree Model: Test set accuracy = 0.5925925925925926\n",
      "+-----+----------------------------------------+----------+\n",
      "|label|probability                             |prediction|\n",
      "+-----+----------------------------------------+----------+\n",
      "|0    |[0.06153846153846154,0.9384615384615385]|1.0       |\n",
      "|0    |[0.98,0.02]                             |0.0       |\n",
      "|0    |[0.06153846153846154,0.9384615384615385]|1.0       |\n",
      "|0    |[0.8,0.2]                               |0.0       |\n",
      "|0    |[0.98,0.02]                             |0.0       |\n",
      "|0    |[0.06153846153846154,0.9384615384615385]|1.0       |\n",
      "|0    |[0.96,0.04]                             |0.0       |\n",
      "|0    |[0.54,0.46]                             |0.0       |\n",
      "|0    |[0.54,0.46]                             |0.0       |\n",
      "|0    |[0.0,1.0]                               |1.0       |\n",
      "|0    |[0.06153846153846154,0.9384615384615385]|1.0       |\n",
      "|0    |[0.98,0.02]                             |0.0       |\n",
      "|0    |[0.0,1.0]                               |1.0       |\n",
      "|0    |[0.06153846153846154,0.9384615384615385]|1.0       |\n",
      "|0    |[0.54,0.46]                             |0.0       |\n",
      "|0    |[0.125,0.875]                           |1.0       |\n",
      "|0    |[0.96,0.04]                             |0.0       |\n",
      "|0    |[0.54,0.46]                             |0.0       |\n",
      "|0    |[0.98,0.02]                             |0.0       |\n",
      "|0    |[0.54,0.46]                             |0.0       |\n",
      "+-----+----------------------------------------+----------+\n",
      "only showing top 20 rows\n",
      "\n"
     ]
    }
   ],
   "source": [
    "# Test and evaluate\n",
    "tested_dt_test = dt_pipeline_model.transform(testDF)\n",
    "evaluator_dt_test = MulticlassClassificationEvaluator(metricName = \"accuracy\")\n",
    "print(\"Decision Tree Model: Test set accuracy = \" + str(evaluator_dt_test.evaluate(tested_dt_test.select(\"prediction\", \"label\"))))\n",
    "\n",
    "tested_dt_test.select(\"label\", \"probability\", \"prediction\").show(20, False)"
   ]
  },
  {
   "cell_type": "markdown",
   "metadata": {},
   "source": [
    "### Save DT model"
   ]
  },
  {
   "cell_type": "code",
   "execution_count": 30,
   "metadata": {},
   "outputs": [
    {
     "name": "stdout",
     "output_type": "stream",
     "text": [
      "PipelineModel_434498cc68f9d9612b19\n"
     ]
    }
   ],
   "source": [
    "dtModel = dt_pipeline_model\n",
    "print(dtModel)  # summary only\n",
    "dtModel.stages[1].write().overwrite().save('dt')"
   ]
  },
  {
   "cell_type": "code",
   "execution_count": null,
   "metadata": {},
   "outputs": [],
   "source": [
    "\n"
   ]
  },
  {
   "cell_type": "markdown",
   "metadata": {},
   "source": [
    "### Reload DT Model"
   ]
  },
  {
   "cell_type": "code",
   "execution_count": null,
   "metadata": {},
   "outputs": [],
   "source": []
  },
  {
   "cell_type": "markdown",
   "metadata": {},
   "source": [
    "### Random Forest Classifier"
   ]
  },
  {
   "cell_type": "code",
   "execution_count": 32,
   "metadata": {},
   "outputs": [
    {
     "name": "stdout",
     "output_type": "stream",
     "text": [
      "INFO:tensorflow:Froze 376 variables.\n",
      "Converted 376 variables to const ops.\n",
      "INFO:tensorflow:Froze 0 variables.\n",
      "Converted 0 variables to const ops.\n"
     ]
    }
   ],
   "source": [
    "from pyspark.ml.classification import RandomForestClassifier\n",
    "\n",
    "from pyspark.ml import Pipeline\n",
    "## Xception InceptionV3\n",
    "vectorizer = dl.DeepImageFeaturizer(inputCol=\"image\", outputCol=\"features\", modelName='InceptionV3')\n",
    "\n",
    "rf = RandomForestClassifier(labelCol = \"label\", featuresCol=\"features\")\n",
    "\n",
    "rf_pipeline = Pipeline(stages=[vectorizer, rf])\n",
    "\n",
    "rf_pipeline_model = rf_pipeline.fit(trainDF)\n",
    "\n",
    "\n",
    "\n"
   ]
  },
  {
   "cell_type": "code",
   "execution_count": 33,
   "metadata": {},
   "outputs": [
    {
     "name": "stdout",
     "output_type": "stream",
     "text": [
      "INFO:tensorflow:Froze 376 variables.\n",
      "Converted 376 variables to const ops.\n",
      "INFO:tensorflow:Froze 0 variables.\n",
      "Converted 0 variables to const ops.\n",
      "Random Forest Model: Test set accuracy = 0.6666666666666666\n",
      "+-----+----------------------------------------+----------+\n",
      "|label|probability                             |prediction|\n",
      "+-----+----------------------------------------+----------+\n",
      "|0    |[0.06153846153846154,0.9384615384615385]|1.0       |\n",
      "|0    |[0.98,0.02]                             |0.0       |\n",
      "|0    |[0.06153846153846154,0.9384615384615385]|1.0       |\n",
      "|0    |[0.8,0.2]                               |0.0       |\n",
      "|0    |[0.98,0.02]                             |0.0       |\n",
      "|0    |[0.06153846153846154,0.9384615384615385]|1.0       |\n",
      "|0    |[0.96,0.04]                             |0.0       |\n",
      "|0    |[0.54,0.46]                             |0.0       |\n",
      "|0    |[0.54,0.46]                             |0.0       |\n",
      "|0    |[0.0,1.0]                               |1.0       |\n",
      "|0    |[0.06153846153846154,0.9384615384615385]|1.0       |\n",
      "|0    |[0.98,0.02]                             |0.0       |\n",
      "|0    |[0.0,1.0]                               |1.0       |\n",
      "|0    |[0.06153846153846154,0.9384615384615385]|1.0       |\n",
      "|0    |[0.54,0.46]                             |0.0       |\n",
      "|0    |[0.125,0.875]                           |1.0       |\n",
      "|0    |[0.96,0.04]                             |0.0       |\n",
      "|0    |[0.54,0.46]                             |0.0       |\n",
      "|0    |[0.98,0.02]                             |0.0       |\n",
      "|0    |[0.54,0.46]                             |0.0       |\n",
      "+-----+----------------------------------------+----------+\n",
      "only showing top 20 rows\n",
      "\n"
     ]
    }
   ],
   "source": [
    "# Test and evaluate\n",
    "tested_rf_test = rf_pipeline_model.transform(testDF)\n",
    "evaluator_rf_test = MulticlassClassificationEvaluator(metricName = \"accuracy\")\n",
    "print(\"Random Forest Model: Test set accuracy = \" + str(evaluator_rf_test.evaluate(tested_rf_test.select(\"prediction\", \"label\"))))\n",
    "\n",
    "tested_dt_test.select(\"label\", \"probability\", \"prediction\").show(20, False)"
   ]
  },
  {
   "cell_type": "code",
   "execution_count": null,
   "metadata": {},
   "outputs": [],
   "source": []
  },
  {
   "cell_type": "code",
   "execution_count": null,
   "metadata": {},
   "outputs": [],
   "source": []
  },
  {
   "cell_type": "markdown",
   "metadata": {},
   "source": [
    "### Save RF Model"
   ]
  },
  {
   "cell_type": "code",
   "execution_count": null,
   "metadata": {},
   "outputs": [],
   "source": []
  },
  {
   "cell_type": "markdown",
   "metadata": {},
   "source": [
    "### Reload RF Model"
   ]
  },
  {
   "cell_type": "code",
   "execution_count": null,
   "metadata": {},
   "outputs": [],
   "source": [
    "from pyspark.ml.classification import LogisticRegressionModel\n",
    "from pyspark.ml import Pipeline, PipelineModel\n",
    "from pyspark.ml.evaluation import MulticlassClassificationEvaluator\n",
    "from pyspark.ml.evaluation import BinaryClassificationEvaluator\n",
    "\n",
    "lr_test = LogisticRegressionModel.load('./lr')\n",
    "\n",
    "# Use a featurizer to use trained features from an existing model\n",
    "featurizer_test = dl.DeepImageFeaturizer(inputCol = \"image\", outputCol = \"features\", modelName = \"InceptionV3\")\n",
    "\n",
    "# Pipeline both entities\n",
    "p_test = PipelineModel(stages=[featurizer_test, lr_test])\n",
    "\n",
    "# Test and evaluate\n",
    "tested_df_test = p_test.transform(testDF)\n",
    "evaluator_test = MulticlassClassificationEvaluator(metricName = \"accuracy\")\n",
    "print(\"Test set accuracy = \" + str(evaluator_test.evaluate(tested_df_test.select(\"prediction\", \"label\"))))\n",
    "\n",
    "tested_df_test.select(\"label\", \"probability\", \"prediction\").show(20, False)"
   ]
  },
  {
   "cell_type": "code",
   "execution_count": null,
   "metadata": {},
   "outputs": [],
   "source": []
  },
  {
   "cell_type": "markdown",
   "metadata": {},
   "source": [
    "### Gradient-Boosted Tree Classifier"
   ]
  },
  {
   "cell_type": "code",
   "execution_count": 34,
   "metadata": {},
   "outputs": [
    {
     "name": "stdout",
     "output_type": "stream",
     "text": [
      "INFO:tensorflow:Froze 376 variables.\n",
      "Converted 376 variables to const ops.\n",
      "INFO:tensorflow:Froze 0 variables.\n",
      "Converted 0 variables to const ops.\n"
     ]
    }
   ],
   "source": [
    "from pyspark.ml.classification import GBTClassifier\n",
    "\n",
    "from pyspark.ml import Pipeline\n",
    "## Xception InceptionV3\n",
    "vectorizer = dl.DeepImageFeaturizer(inputCol=\"image\", outputCol=\"features\", modelName='InceptionV3')\n",
    "\n",
    "gbt = GBTClassifier(maxIter=10)\n",
    "\n",
    "gbt_pipeline = Pipeline(stages=[vectorizer, gbt])\n",
    "\n",
    "gbt_pipeline_model = gbt_pipeline.fit(trainDF)\n",
    "\n",
    "\n",
    "\n"
   ]
  },
  {
   "cell_type": "code",
   "execution_count": 35,
   "metadata": {},
   "outputs": [
    {
     "name": "stdout",
     "output_type": "stream",
     "text": [
      "INFO:tensorflow:Froze 376 variables.\n",
      "Converted 376 variables to const ops.\n",
      "INFO:tensorflow:Froze 0 variables.\n",
      "Converted 0 variables to const ops.\n",
      "GBT Model: Test set accuracy = 0.6296296296296297\n",
      "+-----+----------------------------------------+----------+\n",
      "|label|probability                             |prediction|\n",
      "+-----+----------------------------------------+----------+\n",
      "|0    |[0.06153846153846154,0.9384615384615385]|1.0       |\n",
      "|0    |[0.98,0.02]                             |0.0       |\n",
      "|0    |[0.06153846153846154,0.9384615384615385]|1.0       |\n",
      "|0    |[0.8,0.2]                               |0.0       |\n",
      "|0    |[0.98,0.02]                             |0.0       |\n",
      "|0    |[0.06153846153846154,0.9384615384615385]|1.0       |\n",
      "|0    |[0.96,0.04]                             |0.0       |\n",
      "|0    |[0.54,0.46]                             |0.0       |\n",
      "|0    |[0.54,0.46]                             |0.0       |\n",
      "|0    |[0.0,1.0]                               |1.0       |\n",
      "|0    |[0.06153846153846154,0.9384615384615385]|1.0       |\n",
      "|0    |[0.98,0.02]                             |0.0       |\n",
      "|0    |[0.0,1.0]                               |1.0       |\n",
      "|0    |[0.06153846153846154,0.9384615384615385]|1.0       |\n",
      "|0    |[0.54,0.46]                             |0.0       |\n",
      "|0    |[0.125,0.875]                           |1.0       |\n",
      "|0    |[0.96,0.04]                             |0.0       |\n",
      "|0    |[0.54,0.46]                             |0.0       |\n",
      "|0    |[0.98,0.02]                             |0.0       |\n",
      "|0    |[0.54,0.46]                             |0.0       |\n",
      "+-----+----------------------------------------+----------+\n",
      "only showing top 20 rows\n",
      "\n"
     ]
    }
   ],
   "source": [
    "# Test and evaluate\n",
    "tested_gbt_test = gbt_pipeline_model.transform(testDF)\n",
    "evaluator_gbt_test = MulticlassClassificationEvaluator(metricName = \"accuracy\")\n",
    "print(\"GBT Model: Test set accuracy = \" + str(evaluator_gbt_test.evaluate(tested_gbt_test.select(\"prediction\", \"label\"))))\n",
    "\n",
    "tested_dt_test.select(\"label\", \"probability\", \"prediction\").show(20, False)"
   ]
  },
  {
   "cell_type": "code",
   "execution_count": 36,
   "metadata": {},
   "outputs": [
    {
     "name": "stdout",
     "output_type": "stream",
     "text": [
      "+-----+----------------------------------------+----------+\n",
      "|label|probability                             |prediction|\n",
      "+-----+----------------------------------------+----------+\n",
      "|0    |[0.07005430994087057,0.9299456900591294]|1.0       |\n",
      "|0    |[0.9341221756527827,0.06587782434721734]|0.0       |\n",
      "|0    |[0.06587782434721742,0.9341221756527825]|1.0       |\n",
      "|0    |[0.4604947255782175,0.5395052744217825] |1.0       |\n",
      "|0    |[0.9224798711479536,0.0775201288520464] |0.0       |\n",
      "|0    |[0.06587782434721742,0.9341221756527825]|1.0       |\n",
      "|0    |[0.9306233339041042,0.06937666609589577]|0.0       |\n",
      "|0    |[0.9341221756527827,0.06587782434721734]|0.0       |\n",
      "|0    |[0.9269531963068626,0.07304680369313743]|0.0       |\n",
      "|0    |[0.06587782434721744,0.9341221756527825]|1.0       |\n",
      "|0    |[0.06587782434721742,0.9341221756527825]|1.0       |\n",
      "|0    |[0.9341221756527827,0.06587782434721734]|0.0       |\n",
      "|0    |[0.08074506050044718,0.9192549394995528]|1.0       |\n",
      "|0    |[0.06587782434721742,0.9341221756527825]|1.0       |\n",
      "|0    |[0.06587782434721742,0.9341221756527825]|1.0       |\n",
      "|0    |[0.4070280721328543,0.5929719278671457] |1.0       |\n",
      "|0    |[0.9296596141626816,0.07034038583731839]|0.0       |\n",
      "|0    |[0.9341221756527827,0.06587782434721734]|0.0       |\n",
      "|0    |[0.9341221756527827,0.06587782434721734]|0.0       |\n",
      "|0    |[0.9341221756527827,0.06587782434721734]|0.0       |\n",
      "+-----+----------------------------------------+----------+\n",
      "only showing top 20 rows\n",
      "\n"
     ]
    }
   ],
   "source": [
    "tested_gbt_test.select(\"label\", \"probability\", \"prediction\").show(20, False)"
   ]
  },
  {
   "cell_type": "code",
   "execution_count": null,
   "metadata": {},
   "outputs": [],
   "source": []
  },
  {
   "cell_type": "code",
   "execution_count": 35,
   "metadata": {},
   "outputs": [
    {
     "name": "stdout",
     "output_type": "stream",
     "text": [
      "accuracy: 58.33%\n"
     ]
    }
   ],
   "source": [
    "from pyspark.ml.evaluation import BinaryClassificationEvaluator\n",
    "\n",
    "binaryevaluator = BinaryClassificationEvaluator(rawPredictionCol=\"prediction\")\n",
    "binary_rate = binaryevaluator.evaluate(prediction)*100\n",
    "print(\"accuracy: {}%\" .format(round(binary_rate,2)))"
   ]
  },
  {
   "cell_type": "code",
   "execution_count": null,
   "metadata": {},
   "outputs": [],
   "source": []
  },
  {
   "cell_type": "code",
   "execution_count": null,
   "metadata": {},
   "outputs": [],
   "source": []
  },
  {
   "cell_type": "markdown",
   "metadata": {},
   "source": [
    "### KERAS - Save Model"
   ]
  },
  {
   "cell_type": "code",
   "execution_count": 1,
   "metadata": {},
   "outputs": [
    {
     "name": "stderr",
     "output_type": "stream",
     "text": [
      "/home/preetham/anaconda3/lib/python3.6/site-packages/h5py/__init__.py:34: FutureWarning: Conversion of the second argument of issubdtype from `float` to `np.floating` is deprecated. In future, it will be treated as `np.float64 == np.dtype(float).type`.\n",
      "  from ._conv import register_converters as _register_converters\n",
      "Using TensorFlow backend.\n",
      "/home/preetham/anaconda3/lib/python3.6/importlib/_bootstrap.py:219: RuntimeWarning: compiletime version 3.5 of module 'tensorflow.python.framework.fast_tensor_util' does not match runtime version 3.6\n",
      "  return f(*args, **kwds)\n"
     ]
    }
   ],
   "source": [
    "from keras.applications import InceptionV3\n"
   ]
  },
  {
   "cell_type": "code",
   "execution_count": null,
   "metadata": {},
   "outputs": [],
   "source": []
  }
 ],
 "metadata": {
  "kernelspec": {
   "display_name": "Python 3",
   "language": "python",
   "name": "python3"
  },
  "language_info": {
   "codemirror_mode": {
    "name": "ipython",
    "version": 3
   },
   "file_extension": ".py",
   "mimetype": "text/x-python",
   "name": "python",
   "nbconvert_exporter": "python",
   "pygments_lexer": "ipython3",
   "version": "3.6.3"
  }
 },
 "nbformat": 4,
 "nbformat_minor": 2
}
